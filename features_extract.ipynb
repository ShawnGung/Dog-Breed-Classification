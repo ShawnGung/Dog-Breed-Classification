{
 "cells": [
  {
   "cell_type": "code",
   "execution_count": 5,
   "metadata": {},
   "outputs": [],
   "source": [
    "from __future__ import print_function, division\n",
    "import os\n",
    "import pandas as pd\n",
    "import numpy as np\n",
    "import torch\n",
    "from torch.utils.data import Dataset, DataLoader\n",
    "from torchvision import transforms\n",
    "from reData import *\n",
    "from torchvision.datasets import ImageFolder\n",
    "from torchvision import transforms\n",
    "import torch.nn.functional as F\n",
    "import torch.nn as nn\n",
    "import time\n",
    "from tqdm import tqdm\n",
    "import torchvision.models as models"
   ]
  },
  {
   "cell_type": "markdown",
   "metadata": {},
   "source": [
    "## 分割数据 / 加载数据迭代器 \n",
    "***目录下 data/dog_breed/ 放kaggle上的数据***"
   ]
  },
  {
   "cell_type": "code",
   "execution_count": 7,
   "metadata": {},
   "outputs": [],
   "source": [
    "#import data\n",
    "SPLIT_FILES = False\n",
    "BATCH_SIZE = 4\n",
    "data_dir = 'data/dog_breed'        \n",
    "label_file, train_dir, test_dir = 'labels.csv', 'train', 'test'\n",
    "input_dir, batch_size, valid_ratio = 'train_valid_test', 128, 0.1\n",
    "\n",
    "if SPLIT_FILES:\n",
    "    reorg_dog_data(data_dir, label_file, train_dir, test_dir, input_dir,\n",
    "                    valid_ratio)\n",
    "\n",
    "transform = transforms.Compose([\n",
    "    transforms.Resize(256),\n",
    "    transforms.CenterCrop(224),\n",
    "    transforms.ToTensor(),\n",
    "    transforms.Normalize([0.485, 0.456, 0.406], [0.229, 0.224, 0.225])\n",
    "])\n",
    "\n",
    "train_ds = ImageFolder(os.path.join(data_dir, input_dir, 'train'),transform = transform)\n",
    "valid_ds = ImageFolder(os.path.join(data_dir, input_dir, 'valid'),transform = transform)\n",
    "train_valid_ds = ImageFolder(os.path.join(data_dir, input_dir, 'train_valid'),transform = transform)\n",
    "test_ds = ImageFolder(os.path.join(data_dir, input_dir, 'test'),transform = transform)\n",
    "\n",
    "\n",
    "train_dl = DataLoader(train_ds, batch_size=BATCH_SIZE, shuffle=True, num_workers=0)\n",
    "valid_dl = DataLoader(valid_ds, batch_size=BATCH_SIZE, shuffle=True, num_workers=0)\n",
    "train_valid_dl = DataLoader(train_valid_ds, batch_size=BATCH_SIZE, shuffle=True, num_workers=0)\n",
    "test_dl = DataLoader(test_ds, batch_size=BATCH_SIZE, shuffle=False, num_workers=0)"
   ]
  },
  {
   "cell_type": "markdown",
   "metadata": {},
   "source": [
    "## 提取各种深度网络的feature层\n",
    "\n",
    "- 提取VGG19,ResNet50,ResNet152,Desnet162的features层的输出\n",
    "- 通过average pooling来调整输出为(batchsize , channel, 1 , 1)\n",
    "- 通过ConcatNet 来合并所有输出\n",
    "\n",
    "*这里只选择了三种网络vgg19 / resnet152 / desnet162 进行合并*"
   ]
  },
  {
   "cell_type": "code",
   "execution_count": null,
   "metadata": {},
   "outputs": [],
   "source": [
    "class VGG19Features(nn.Module):\n",
    "    def __init__(self, original_model):\n",
    "        super(VGG19Features, self).__init__()\n",
    "        self.features = nn.Sequential(\n",
    "            *list(original_model.children())[:-1],\n",
    "            nn.AvgPool2d(7)\n",
    "        )\n",
    "        \n",
    "    def forward(self, x):\n",
    "        x = self.features(x)\n",
    "        return x\n",
    "\n",
    "# testx = torch.randn((32,3,224,224))\n",
    "vgg19_model = models.vgg19_bn(pretrained=True)\n",
    "vgg19_features = VGG19Features(vgg19_model) # output [b,c,h = 1,w = 1]\n",
    "vgg19_features = vgg19_features.eval()\n",
    "# print(vgg19_features(testx).shape)"
   ]
  },
  {
   "cell_type": "code",
   "execution_count": null,
   "metadata": {},
   "outputs": [],
   "source": [
    "class ResNet50Features(nn.Module):\n",
    "    def __init__(self, original_model):\n",
    "        super(ResNet50Features, self).__init__()\n",
    "        self.features = nn.Sequential(\n",
    "            *list(original_model.children())[:-1],\n",
    "        )\n",
    "    def forward(self, x):\n",
    "        x = self.features(x)\n",
    "        return x\n",
    "\n",
    "# res50_model = models.resnet50(pretrained=True)\n",
    "# res50_features = ResNet50Features(res50_model) # output [b,c,h = 1,w = 1]\n",
    "# res50_features = res50_features.eval()\n",
    "# print(res50_features(testx).shape)"
   ]
  },
  {
   "cell_type": "code",
   "execution_count": null,
   "metadata": {},
   "outputs": [],
   "source": [
    "class ResNet152Features(nn.Module):\n",
    "    def __init__(self, original_model):\n",
    "        super(ResNet152Features, self).__init__()\n",
    "        self.features = nn.Sequential(\n",
    "            *list(original_model.children())[:-1],\n",
    "        )\n",
    "        \n",
    "    def forward(self, x):\n",
    "        x = self.features(x)\n",
    "        return x\n",
    "\n",
    "res152_model = models.resnet152(pretrained=True)\n",
    "res152_features = ResNet152Features(res152_model) # output [b,c,h = 1,w = 1]\n",
    "res152_features = res152_features.eval()\n",
    "# print(res152_features)\n",
    "# print(res152_features(testx).shape)"
   ]
  },
  {
   "cell_type": "code",
   "execution_count": null,
   "metadata": {},
   "outputs": [],
   "source": [
    "class densenet161Features(nn.Module):\n",
    "    def __init__(self, original_model):\n",
    "        super(densenet161Features, self).__init__()\n",
    "        self.features = nn.Sequential(\n",
    "            *list(original_model.children())[:-1],\n",
    "            nn.AvgPool2d(7)\n",
    "        )\n",
    "    def forward(self, x):\n",
    "        x = self.features(x)\n",
    "        return x\n",
    "\n",
    "densenet161_model = models.densenet161(pretrained=True)\n",
    "densenet161_features = densenet161Features(densenet161_model) # output [b,c,h = 1,w = 1]\n",
    "densenet161_features = densenet161_features.eval()\n",
    "# print(densenet161_features(testx).shape)"
   ]
  },
  {
   "cell_type": "code",
   "execution_count": null,
   "metadata": {},
   "outputs": [],
   "source": [
    "class ConcatNet(nn.Module):\n",
    "    def __init__(self,net1,net2,net3,**kwargs):\n",
    "        super(ConcatNet,self).__init__(**kwargs)\n",
    "        self.net1 = net1\n",
    "        self.net2 = net2\n",
    "        self.net3 = net3\n",
    "    def forward(self, x):\n",
    "        return torch.cat((self.net1(x),self.net2(x),self.net3(x)),dim=1)"
   ]
  },
  {
   "cell_type": "code",
   "execution_count": null,
   "metadata": {},
   "outputs": [],
   "source": [
    "#saving features from two models\n",
    "concatNet = ConcatNet(densenet161_features,res152_features,vgg19_features).cuda()"
   ]
  },
  {
   "cell_type": "markdown",
   "metadata": {},
   "source": [
    "## 提取训练集/验证集/测试集的特征向量\n",
    "\n",
    "**把特征全部保存到本地,以后调用**"
   ]
  },
  {
   "cell_type": "code",
   "execution_count": null,
   "metadata": {},
   "outputs": [],
   "source": [
    "def SaveNd(data,net,name):\n",
    "    x_list =[]\n",
    "    y_list =[]\n",
    "    print('extract %s' % name)\n",
    "    for X,y in tqdm(data):\n",
    "        X = X.cuda()\n",
    "        net =  net.eval()\n",
    "        out = net(X)\n",
    "        x_list.append(out.cpu().data)\n",
    "        y_list.append(y)\n",
    "    print(len(x_list))\n",
    "    print(len(y_list))\n",
    "    print(x_list[0].shape)\n",
    "    x_list = torch.cat(x_list,dim=0)\n",
    "    y_list = torch.cat(y_list,dim=0)\n",
    "    print('save %s' % name)\n",
    "    torch.save([x_list,y_list], name)\n",
    "\n",
    "SaveNd(train_dl,concatNet,'train_r152i3.pt')\n",
    "SaveNd(valid_dl,concatNet,'valid_r152i3.pt')\n",
    "SaveNd(train_valid_dl,concatNet,'input_r152i3.pt')\n",
    "SaveNd(test_dl,concatNet,'test_r152i3.pt')"
   ]
  },
  {
   "cell_type": "code",
   "execution_count": null,
   "metadata": {},
   "outputs": [],
   "source": [
    "# x_list = [torch.randn((16,4096,1,1)),torch.randn((16,4096,1,1))]\n",
    "# x_list = torch.cat(x_list,dim=0)\n",
    "# print(x_list.shape)"
   ]
  },
  {
   "cell_type": "code",
   "execution_count": null,
   "metadata": {},
   "outputs": [],
   "source": []
  }
 ],
 "metadata": {
  "kernelspec": {
   "display_name": "Python 3",
   "language": "python",
   "name": "python3"
  },
  "language_info": {
   "codemirror_mode": {
    "name": "ipython",
    "version": 3
   },
   "file_extension": ".py",
   "mimetype": "text/x-python",
   "name": "python",
   "nbconvert_exporter": "python",
   "pygments_lexer": "ipython3",
   "version": "3.6.8"
  }
 },
 "nbformat": 4,
 "nbformat_minor": 2
}
